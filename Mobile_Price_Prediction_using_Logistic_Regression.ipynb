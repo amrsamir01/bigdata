{
  "cells": [
    {
      "cell_type": "code",
      "execution_count": 1,
      "metadata": {
        "colab": {
          "base_uri": "https://localhost:8080/"
        },
        "id": "C_5bnuSVQjG2",
        "outputId": "ee56b4c3-092f-44ce-ba91-270a9608216f"
      },
      "outputs": [
        {
          "output_type": "stream",
          "name": "stdout",
          "text": [
            "Collecting pyspark\n",
            "  Downloading pyspark-3.2.1.tar.gz (281.4 MB)\n",
            "\u001b[K     |████████████████████████████████| 281.4 MB 32 kB/s \n",
            "\u001b[?25hCollecting py4j==0.10.9.3\n",
            "  Downloading py4j-0.10.9.3-py2.py3-none-any.whl (198 kB)\n",
            "\u001b[K     |████████████████████████████████| 198 kB 47.7 MB/s \n",
            "\u001b[?25hBuilding wheels for collected packages: pyspark\n",
            "  Building wheel for pyspark (setup.py) ... \u001b[?25l\u001b[?25hdone\n",
            "  Created wheel for pyspark: filename=pyspark-3.2.1-py2.py3-none-any.whl size=281853642 sha256=14a9cf117b7d191572b973c31b9f9ed9d1426768fd6a8c1212f0ff613ab94432\n",
            "  Stored in directory: /root/.cache/pip/wheels/9f/f5/07/7cd8017084dce4e93e84e92efd1e1d5334db05f2e83bcef74f\n",
            "Successfully built pyspark\n",
            "Installing collected packages: py4j, pyspark\n",
            "Successfully installed py4j-0.10.9.3 pyspark-3.2.1\n"
          ]
        }
      ],
      "source": [
        "!pip install pyspark"
      ]
    },
    {
      "cell_type": "code",
      "source": [
        "from pyspark.sql import SparkSession\n",
        "from pyspark.ml import Pipeline\n",
        "from pyspark.ml.feature import VectorAssembler\n",
        "from pyspark.ml.classification import LogisticRegression\n",
        "from sklearn.metrics import accuracy_score\n",
        "\n",
        "spark = SparkSession.builder.appName('mobileprice_lr').getOrCreate()\n",
        "df = spark.read.csv('dataset.csv', header = True, inferSchema = True)\n",
        "\n",
        "numericCols = ['battery_power', 'clock_speed', 'dual_sim', 'fc', 'four_g', 'int_memory', 'm_dep', 'mobile_wt', 'n_cores','pc', 'px_height', 'px_width','ram','sc_h','sc_w','talk_time','three_g','touch_screen','wifi']\n",
        "\n",
        "featurizationPipeline = Pipeline(stages = [VectorAssembler(inputCols=numericCols, outputCol=\"feature_vector\")])\n",
        "\n",
        "featurizationPipelineModel = featurizationPipeline.fit(df)\n",
        "df = featurizationPipelineModel.transform(df)\n",
        "\n",
        "train, test = df.randomSplit([0.8, 0.2], seed = 2018)\n",
        "\n",
        "lr = LogisticRegression(featuresCol = 'feature_vector', labelCol = 'price_range', maxIter=10)\n",
        "\n",
        "lrModel = lr.fit(train)\n",
        "predictions = lrModel.transform(test)\n",
        "\n",
        "true_labels=predictions.select('price_range')\n",
        "lr_predictions=predictions.select('prediction')\n",
        "\n",
        "accuracy = accuracy_score(true_labels.toPandas(), lr_predictions.toPandas())\n",
        "print(\"Logistic Regression Accuracy =\",accuracy*100,\"%\")"
      ],
      "metadata": {
        "colab": {
          "base_uri": "https://localhost:8080/"
        },
        "id": "9kVp2fC37Se1",
        "outputId": "352fe450-6c10-4311-aaff-3d8bceee38cc"
      },
      "execution_count": 11,
      "outputs": [
        {
          "output_type": "stream",
          "name": "stdout",
          "text": [
            "Logistic Regression Accuracy = 96.40102827763496 %\n"
          ]
        }
      ]
    }
  ],
  "metadata": {
    "colab": {
      "name": "Mobile Price Prediction using Logistic Regression.ipynb",
      "provenance": [],
      "collapsed_sections": []
    },
    "kernelspec": {
      "display_name": "Python 3",
      "name": "python3"
    },
    "language_info": {
      "name": "python"
    }
  },
  "nbformat": 4,
  "nbformat_minor": 0
}